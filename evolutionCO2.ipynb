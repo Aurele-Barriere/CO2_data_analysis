{
 "cells": [
  {
   "cell_type": "markdown",
   "metadata": {},
   "source": [
    "# CO2 concentration in the atmosphere since 1958\n",
    "blabla description of work + goals\n",
    "- - -"
   ]
  },
  {
   "cell_type": "markdown",
   "metadata": {},
   "source": [
    "First we run a Bash script that will check if the dataset is already in the folder. If it isn't, it gets dowloaded from [here](http://scrippsco2.ucsd.edu/data/atmospheric_co2/primary_mlo_co2_record).\n",
    "Because the data is updated regurlarly, we add a timestamp in the file name to keep track of which version of the dataset we are working with."
   ]
  },
  {
   "cell_type": "code",
   "execution_count": 52,
   "metadata": {},
   "outputs": [
    {
     "name": "stdout",
     "output_type": "stream",
     "text": [
      "Dataset is already there, yay!\n"
     ]
    }
   ],
   "source": [
    "%%bash\n",
    "\n",
    "if [ ! -f weekly_in_situ_co2_mlo* ]; then\n",
    "\techo \"I can't find the dataset, I'm gonna download it!\"\n",
    "\twget \"http://scrippsco2.ucsd.edu/assets/data/atmospheric/stations/in_situ_co2/weekly/weekly_in_situ_co2_mlo.csv\" -O \"weekly_in_situ_co2_mlo_$(date --rfc-3339 seconds).csv\"\n",
    "else\n",
    "\techo \"Dataset is already there, yay!\"\n",
    "fi"
   ]
  },
  {
   "cell_type": "markdown",
   "metadata": {},
   "source": [
    "We then list the files in the folder and check the one with the expected suffix to get the actual file name."
   ]
  },
  {
   "cell_type": "code",
   "execution_count": 61,
   "metadata": {},
   "outputs": [
    {
     "name": "stdout",
     "output_type": "stream",
     "text": [
      "weekly_in_situ_co2_mlo_2018-09-11 20:14:14+02:00.csv\n"
     ]
    }
   ],
   "source": [
    "import os\n",
    "\n",
    "filename = next(x for x in os.listdir() if \"weekly_in_situ_co2_mlo\" in x)\n",
    "print(filename)"
   ]
  },
  {
   "cell_type": "markdown",
   "metadata": {},
   "source": [
    "Lets us take a look at this file."
   ]
  },
  {
   "cell_type": "code",
   "execution_count": 54,
   "metadata": {},
   "outputs": [
    {
     "name": "stdout",
     "output_type": "stream",
     "text": [
      "\"-------------------------------------------------------------------------------------------\"\n",
      "\" Atmospheric CO2 concentrations (ppm) derived from in situ air measurements                \"\n",
      "\" at Mauna Loa, Observatory, Hawaii: Latitude 19.5°N Longitude 155.6°W Elevation 3397m      \"\n",
      "\"                                                                                           \"\n",
      "\" Source: R. F. Keeling, S. J. Walker, S. C. Piper and A. F. Bollenbacher                   \"\n",
      "\" Scripps CO2 Program ( http://scrippsco2.ucsd.edu )                                        \"\n",
      "\" Scripps Institution of Oceanography (SIO)                                                 \"\n",
      "\" University of California                                                                  \"\n",
      "\" La Jolla, California USA 92093-0244                                                       \"\n",
      "\"                                                                                           \"\n",
      "\" Status of data and correspondence:                                                        \"\n",
      "\"                                                                                           \"\n",
      "\" These data are subject to revision based on recalibration of standard gases. Questions    \"\n",
      "\" about the data should be directed to Dr. Ralph Keeling (rkeeling@ucsd.edu), Stephen Walker\"\n",
      "\" (sjwalker@ucsd.edu) and Stephen Piper (scpiper@ucsd.edu), Scripps CO2 Program.            \"\n",
      "\"                                                                                           \"\n",
      "\" Baseline data in this file through 29-Aug-2018 from archive dated 29-Aug-2018 09:42:11    \"\n",
      "\"                                                                                           \"\n",
      "\"-------------------------------------------------------------------------------------------\"\n",
      "\"                                                                                           \"\n",
      "\" Please cite as:                                                                           \"\n",
      "\"                                                                                           \"\n",
      "\" C. D. Keeling, S. C. Piper, R. B. Bacastow, M. Wahlen, T. P. Whorf, M. Heimann, and       \"\n",
      "\" H. A. Meijer, Exchanges of atmospheric CO2 and 13CO2 with the terrestrial biosphere and   \"\n",
      "\" oceans from 1978 to 2000.  I. Global aspects, SIO Reference Series, No. 01-06, Scripps    \"\n",
      "\" Institution of Oceanography, San Diego, 88 pages, 2001.                                   \"\n",
      "\"                                                                                           \"\n",
      "\" If it is necessary to cite a peer-reviewed article, please cite as:                       \"\n",
      "\"                                                                                           \"\n",
      "\" C. D. Keeling, S. C. Piper, R. B. Bacastow, M. Wahlen, T. P. Whorf, M. Heimann, and       \"\n",
      "\" H. A. Meijer, Atmospheric CO2 and 13CO2 exchange with the terrestrial biosphere and       \"\n",
      "\" oceans from 1978 to 2000: observations and carbon cycle implications, pages 83-113,       \"\n",
      "\" in \"A History of Atmospheric CO2 and its effects on Plants, Animals, and Ecosystems\",     \"\n",
      "\" editors, Ehleringer, J.R., T. E. Cerling, M. D. Dearing, Springer Verlag,                 \"\n",
      "\" New York, 2005.                                                                           \"\n",
      "\"                                                                                           \"\n",
      "\"-------------------------------------------------------------------------------------------\"\n",
      "\"                                                                                           \"\n",
      "\"                                                                        \"\n",
      "\" The data file below contains 2 columns indicaing the date and CO2      \"\n",
      "\" concentrations in micro-mol CO2 per mole (ppm), reported on the 2008A  \"\n",
      "\" SIO manometric mole fraction scale.  These weekly values have been     \"\n",
      "\" adjusted to 12:00 hours at middle day of each weekly period as         \"\n",
      "\" indicated by the date in the first column.                             \"\n",
      "1958-03-29, 316.19\n",
      "1958-04-05, 317.31\n",
      "1958-04-12, 317.69\n",
      "1958-04-19, 317.58\n",
      "1958-04-26, 316.48\n",
      "1958-05-03, 316.95\n"
     ]
    }
   ],
   "source": [
    "%%bash\n",
    "head -n 50 weekly_in_situ_co2_mlo*"
   ]
  },
  {
   "cell_type": "markdown",
   "metadata": {},
   "source": [
    "Now, we can import it as a Pandas dataframe. We know where the actual data start, and what the meaning of the different columns are. We can print the head of our dataframe to check we got things right."
   ]
  },
  {
   "cell_type": "code",
   "execution_count": 55,
   "metadata": {},
   "outputs": [
    {
     "name": "stdout",
     "output_type": "stream",
     "text": [
      "        Date  Concentration\n",
      "0 1958-03-29         316.19\n",
      "1 1958-04-05         317.31\n",
      "2 1958-04-12         317.69\n",
      "3 1958-04-19         317.58\n",
      "4 1958-04-26         316.48\n"
     ]
    }
   ],
   "source": [
    "import pandas as pd\n",
    "import numpy as np\n",
    "data = pd.read_csv(filename, header=43, names=['Date', 'Concentration'], parse_dates=[0])\n",
    "print(data.head())"
   ]
  },
  {
   "cell_type": "markdown",
   "metadata": {},
   "source": [
    "The date format is not very convenient for plotting, so we will convert it to float using a simple approximate computation."
   ]
  },
  {
   "cell_type": "code",
   "execution_count": 56,
   "metadata": {},
   "outputs": [
    {
     "name": "stdout",
     "output_type": "stream",
     "text": [
      "0    1958.237705\n",
      "1    1958.256831\n",
      "2    1958.275956\n",
      "3    1958.295082\n",
      "4    1958.314208\n",
      "Name: Date, dtype: float64\n"
     ]
    }
   ],
   "source": [
    "dataYear = data['Date'].apply(lambda x: (float(x.strftime(\"%j\")) - 1) / 366 + float(x.strftime(\"%Y\")))\n",
    "print(dataYear.head())"
   ]
  },
  {
   "cell_type": "markdown",
   "metadata": {},
   "source": [
    "Now, we can actually plot our dataset. Matplotlib will do it just fine for us. We add some fancy tweaks, and we get a nice chart."
   ]
  },
  {
   "cell_type": "code",
   "execution_count": 59,
   "metadata": {
    "scrolled": true
   },
   "outputs": [
    {
     "data": {
      "image/png": "[encoded data removed]",
      "text/plain": [
       "<Figure size 576x360 with 1 Axes>"
      ]
     },
     "metadata": {
      "needs_background": "light"
     },
     "output_type": "display_data"
    }
   ],
   "source": [
    "import matplotlib.pyplot as plt\n",
    "f, ax = plt.subplots(1, 1, figsize=[8, 5])\n",
    "ax.plot(dataYear, data['Concentration'], c='r')\n",
    "ax.set_xlabel(\"Year\")\n",
    "ax.set_ylabel(\"CO2 Concentration (ppm)\")\n",
    "ax.spines['top'].set_visible(False)\n",
    "ax.spines['right'].set_visible(False)\n",
    "plt.show()"
   ]
  },
  {
   "cell_type": "code",
   "execution_count": null,
   "metadata": {},
   "outputs": [],
   "source": []
  }
 ],
 "metadata": {
  "kernelspec": {
   "display_name": "Python 3",
   "language": "python",
   "name": "python3"
  },
  "language_info": {
   "codemirror_mode": {
    "name": "ipython",
    "version": 3
   },
   "file_extension": ".py",
   "mimetype": "text/x-python",
   "name": "python",
   "nbconvert_exporter": "python",
   "pygments_lexer": "ipython3",
   "version": "3.6.5"
  }
 },
 "nbformat": 4,
 "nbformat_minor": 2
}
